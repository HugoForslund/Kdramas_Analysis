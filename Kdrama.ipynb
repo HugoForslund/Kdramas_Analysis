{
 "cells": [
  {
   "cell_type": "code",
   "execution_count": 202,
   "id": "6f538cf0",
   "metadata": {},
   "outputs": [],
   "source": [
    "import pandas as pd\n",
    "import numpy as np\n",
    "import matplotlib.pyplot as plt\n",
    "import warnings\n",
    "import bokeh\n",
    "import seaborn as sns\n",
    "warnings.filterwarnings(\"ignore\")"
   ]
  },
  {
   "cell_type": "code",
   "execution_count": 203,
   "id": "cd806fd8",
   "metadata": {},
   "outputs": [],
   "source": [
    "df = pd.read_csv('kdrama.csv')"
   ]
  },
  {
   "cell_type": "code",
   "execution_count": 764,
   "id": "c66f78c0",
   "metadata": {},
   "outputs": [
    {
     "data": {
      "text/html": [
       "<div>\n",
       "<style scoped>\n",
       "    .dataframe tbody tr th:only-of-type {\n",
       "        vertical-align: middle;\n",
       "    }\n",
       "\n",
       "    .dataframe tbody tr th {\n",
       "        vertical-align: top;\n",
       "    }\n",
       "\n",
       "    .dataframe thead th {\n",
       "        text-align: right;\n",
       "    }\n",
       "</style>\n",
       "<table border=\"1\" class=\"dataframe\">\n",
       "  <thead>\n",
       "    <tr style=\"text-align: right;\">\n",
       "      <th></th>\n",
       "      <th>Drama Name</th>\n",
       "      <th>Rating(Out of 10)</th>\n",
       "      <th>Actors</th>\n",
       "      <th>Viewship Rate</th>\n",
       "      <th>Genre</th>\n",
       "      <th>Director</th>\n",
       "      <th>Writer</th>\n",
       "      <th>Year</th>\n",
       "      <th>No of Episodes</th>\n",
       "      <th>Network</th>\n",
       "    </tr>\n",
       "  </thead>\n",
       "  <tbody>\n",
       "    <tr>\n",
       "      <th>0</th>\n",
       "      <td>Legend of the Blue Sea</td>\n",
       "      <td>8.1</td>\n",
       "      <td>[Jun Ji-hyun, Lee Min-ho]</td>\n",
       "      <td>17.60</td>\n",
       "      <td>[Fantasy, Romance, Comedy]</td>\n",
       "      <td>[Jin Hyuk, Park Seon-Ho]</td>\n",
       "      <td>[Park Ji-eun]</td>\n",
       "      <td>2016</td>\n",
       "      <td>21.0</td>\n",
       "      <td>SBS</td>\n",
       "    </tr>\n",
       "    <tr>\n",
       "      <th>1</th>\n",
       "      <td>The Heirs</td>\n",
       "      <td>7.5</td>\n",
       "      <td>[Lee Min-ho, Park Shin-hye, Kim Woo-bin]</td>\n",
       "      <td>16.70</td>\n",
       "      <td>[Romance, Drama, Teen]</td>\n",
       "      <td>[Kang Shin-hyo, Boo Sung-chul]</td>\n",
       "      <td>[Kim Eun-sook]</td>\n",
       "      <td>2013</td>\n",
       "      <td>20.0</td>\n",
       "      <td>SBS</td>\n",
       "    </tr>\n",
       "    <tr>\n",
       "      <th>2</th>\n",
       "      <td>The King: Eternal Monarch</td>\n",
       "      <td>8.3</td>\n",
       "      <td>[Lee Min-ho, Kim Go-eun, Woo Do-hwan, Kim Kyun...</td>\n",
       "      <td>7.70</td>\n",
       "      <td>[Romance, Fantasy, Drama]</td>\n",
       "      <td>[Baek Sang-hoon, Jung Ji-hyun, Yoo Je-won]</td>\n",
       "      <td>[Kim Eun-sook]</td>\n",
       "      <td>2020</td>\n",
       "      <td>16.0</td>\n",
       "      <td>SBS</td>\n",
       "    </tr>\n",
       "    <tr>\n",
       "      <th>3</th>\n",
       "      <td>Boys over Flowers</td>\n",
       "      <td>7.9</td>\n",
       "      <td>[Lee Min-ho, Ku Hye-sun, Kim Hyun-joong, Kim B...</td>\n",
       "      <td>25.70</td>\n",
       "      <td>[Romance, Comedy, Drama]</td>\n",
       "      <td>[Jeon Ki-sang]</td>\n",
       "      <td>[Yoon Ji-ryun]</td>\n",
       "      <td>2009</td>\n",
       "      <td>25.0</td>\n",
       "      <td>KBS</td>\n",
       "    </tr>\n",
       "    <tr>\n",
       "      <th>4</th>\n",
       "      <td>Guardian: the lonely and the great god</td>\n",
       "      <td>8.6</td>\n",
       "      <td>[Gong Yoo, Kim Go-eun, Lee Dong-wook, Yoo In-n...</td>\n",
       "      <td>12.81</td>\n",
       "      <td>[Fantasy, Romance, Drama]</td>\n",
       "      <td>[Lee Eung-bok, Kwon Hyuk-chan, Yoon Jong-ho]</td>\n",
       "      <td>[Kim Eun-sook]</td>\n",
       "      <td>2016</td>\n",
       "      <td>18.0</td>\n",
       "      <td>TvN</td>\n",
       "    </tr>\n",
       "    <tr>\n",
       "      <th>...</th>\n",
       "      <td>...</td>\n",
       "      <td>...</td>\n",
       "      <td>...</td>\n",
       "      <td>...</td>\n",
       "      <td>...</td>\n",
       "      <td>...</td>\n",
       "      <td>...</td>\n",
       "      <td>...</td>\n",
       "      <td>...</td>\n",
       "      <td>...</td>\n",
       "    </tr>\n",
       "    <tr>\n",
       "      <th>83</th>\n",
       "      <td>Hospital Playlist</td>\n",
       "      <td>8.7</td>\n",
       "      <td>[Jo Jung-suk, Yoo Yeon-seok, Jung Kyung-ho, Ki...</td>\n",
       "      <td>10.90</td>\n",
       "      <td>[Medical, Drama, Romance, Comedy, Life]</td>\n",
       "      <td>[Shin Won-ho]</td>\n",
       "      <td>[Lee Woo-jung]</td>\n",
       "      <td>2020</td>\n",
       "      <td>12.0</td>\n",
       "      <td>TvN</td>\n",
       "    </tr>\n",
       "    <tr>\n",
       "      <th>84</th>\n",
       "      <td>Abyss</td>\n",
       "      <td>7.1</td>\n",
       "      <td>[Ahn Hyo-seop, Lee Sung-jae, Park Bo-young]</td>\n",
       "      <td>2.66</td>\n",
       "      <td>[Romance, Comedy, Fantasy, Crime]</td>\n",
       "      <td>[Yoo Je-won]</td>\n",
       "      <td>[Moon Soo-yeon]</td>\n",
       "      <td>2019</td>\n",
       "      <td>16.0</td>\n",
       "      <td>TvN</td>\n",
       "    </tr>\n",
       "    <tr>\n",
       "      <th>85</th>\n",
       "      <td>School 2017</td>\n",
       "      <td>7.6</td>\n",
       "      <td>[Kim Jung-hyun, Kim Se-jeong, Jang Dong-yoon, ...</td>\n",
       "      <td>4.80</td>\n",
       "      <td>[Coming-of-age, Teen, Comedy, Romance]</td>\n",
       "      <td>[Park Jin-suk, Song Min-yeob]</td>\n",
       "      <td>[Jung Chan-mi, Kim Seung-won]</td>\n",
       "      <td>2017</td>\n",
       "      <td>16.0</td>\n",
       "      <td>KBS</td>\n",
       "    </tr>\n",
       "    <tr>\n",
       "      <th>86</th>\n",
       "      <td>My roommate is a gumiho</td>\n",
       "      <td>8.7</td>\n",
       "      <td>[Jang Ki-yong, Lee Hye-ri, Kang Han-na]</td>\n",
       "      <td>5.50</td>\n",
       "      <td>[Romance, Comedy, Fantasy]</td>\n",
       "      <td>[Nam Sung-woo, Park Joon Hwa]</td>\n",
       "      <td>[Baek Sun-woo, Choi Bo-rim]</td>\n",
       "      <td>2021</td>\n",
       "      <td>16.0</td>\n",
       "      <td>TvN</td>\n",
       "    </tr>\n",
       "    <tr>\n",
       "      <th>87</th>\n",
       "      <td>Shopaholic Louis</td>\n",
       "      <td>7.5</td>\n",
       "      <td>[Seo In-guk, Nam Ji-hyun, Yoon Sang-hyun, Im S...</td>\n",
       "      <td>9.40</td>\n",
       "      <td>[Romance, Comedy]</td>\n",
       "      <td>[Lee Sang-yeop]</td>\n",
       "      <td>[Oh Ji-young]</td>\n",
       "      <td>2016</td>\n",
       "      <td>16.0</td>\n",
       "      <td>MBC</td>\n",
       "    </tr>\n",
       "  </tbody>\n",
       "</table>\n",
       "<p>88 rows × 10 columns</p>\n",
       "</div>"
      ],
      "text/plain": [
       "                                Drama Name  Rating(Out of 10)  \\\n",
       "0                   Legend of the Blue Sea                8.1   \n",
       "1                                The Heirs                7.5   \n",
       "2                The King: Eternal Monarch                8.3   \n",
       "3                        Boys over Flowers                7.9   \n",
       "4   Guardian: the lonely and the great god                8.6   \n",
       "..                                     ...                ...   \n",
       "83                       Hospital Playlist                8.7   \n",
       "84                                   Abyss                7.1   \n",
       "85                             School 2017                7.6   \n",
       "86                 My roommate is a gumiho                8.7   \n",
       "87                        Shopaholic Louis                7.5   \n",
       "\n",
       "                                               Actors  Viewship Rate  \\\n",
       "0                           [Jun Ji-hyun, Lee Min-ho]          17.60   \n",
       "1            [Lee Min-ho, Park Shin-hye, Kim Woo-bin]          16.70   \n",
       "2   [Lee Min-ho, Kim Go-eun, Woo Do-hwan, Kim Kyun...           7.70   \n",
       "3   [Lee Min-ho, Ku Hye-sun, Kim Hyun-joong, Kim B...          25.70   \n",
       "4   [Gong Yoo, Kim Go-eun, Lee Dong-wook, Yoo In-n...          12.81   \n",
       "..                                                ...            ...   \n",
       "83  [Jo Jung-suk, Yoo Yeon-seok, Jung Kyung-ho, Ki...          10.90   \n",
       "84        [Ahn Hyo-seop, Lee Sung-jae, Park Bo-young]           2.66   \n",
       "85  [Kim Jung-hyun, Kim Se-jeong, Jang Dong-yoon, ...           4.80   \n",
       "86            [Jang Ki-yong, Lee Hye-ri, Kang Han-na]           5.50   \n",
       "87  [Seo In-guk, Nam Ji-hyun, Yoon Sang-hyun, Im S...           9.40   \n",
       "\n",
       "                                      Genre  \\\n",
       "0                [Fantasy, Romance, Comedy]   \n",
       "1                    [Romance, Drama, Teen]   \n",
       "2                 [Romance, Fantasy, Drama]   \n",
       "3                  [Romance, Comedy, Drama]   \n",
       "4                 [Fantasy, Romance, Drama]   \n",
       "..                                      ...   \n",
       "83  [Medical, Drama, Romance, Comedy, Life]   \n",
       "84        [Romance, Comedy, Fantasy, Crime]   \n",
       "85   [Coming-of-age, Teen, Comedy, Romance]   \n",
       "86               [Romance, Comedy, Fantasy]   \n",
       "87                        [Romance, Comedy]   \n",
       "\n",
       "                                        Director  \\\n",
       "0                       [Jin Hyuk, Park Seon-Ho]   \n",
       "1                 [Kang Shin-hyo, Boo Sung-chul]   \n",
       "2     [Baek Sang-hoon, Jung Ji-hyun, Yoo Je-won]   \n",
       "3                                 [Jeon Ki-sang]   \n",
       "4   [Lee Eung-bok, Kwon Hyuk-chan, Yoon Jong-ho]   \n",
       "..                                           ...   \n",
       "83                                 [Shin Won-ho]   \n",
       "84                                  [Yoo Je-won]   \n",
       "85                 [Park Jin-suk, Song Min-yeob]   \n",
       "86                 [Nam Sung-woo, Park Joon Hwa]   \n",
       "87                               [Lee Sang-yeop]   \n",
       "\n",
       "                           Writer  Year  No of Episodes Network  \n",
       "0                   [Park Ji-eun]  2016            21.0     SBS  \n",
       "1                  [Kim Eun-sook]  2013            20.0     SBS  \n",
       "2                  [Kim Eun-sook]  2020            16.0     SBS  \n",
       "3                  [Yoon Ji-ryun]  2009            25.0     KBS  \n",
       "4                  [Kim Eun-sook]  2016            18.0     TvN  \n",
       "..                            ...   ...             ...     ...  \n",
       "83                 [Lee Woo-jung]  2020            12.0     TvN  \n",
       "84                [Moon Soo-yeon]  2019            16.0     TvN  \n",
       "85  [Jung Chan-mi, Kim Seung-won]  2017            16.0     KBS  \n",
       "86    [Baek Sun-woo, Choi Bo-rim]  2021            16.0     TvN  \n",
       "87                  [Oh Ji-young]  2016            16.0     MBC  \n",
       "\n",
       "[88 rows x 10 columns]"
      ]
     },
     "execution_count": 764,
     "metadata": {},
     "output_type": "execute_result"
    }
   ],
   "source": [
    "df"
   ]
  },
  {
   "cell_type": "code",
   "execution_count": 205,
   "id": "562fa42c",
   "metadata": {},
   "outputs": [],
   "source": [
    "def formatting(lst):\n",
    "    for col in lst:\n",
    "        for i in range(df.shape[0]):\n",
    "            df[col][i] = df[col][i].split(',')\n",
    "\n",
    "        for i in range(df.shape[0]):\n",
    "            for j in range(len(df[col][i])):\n",
    "                df[col][i][j] = df[col][i][j].lstrip()\n",
    "        \n",
    "    "
   ]
  },
  {
   "cell_type": "code",
   "execution_count": 206,
   "id": "28ab99ad",
   "metadata": {},
   "outputs": [],
   "source": [
    "format_col = ['Actors','Genre','Director','Writer']"
   ]
  },
  {
   "cell_type": "code",
   "execution_count": 207,
   "id": "e8725c0f",
   "metadata": {},
   "outputs": [],
   "source": [
    "formatting(format_col)"
   ]
  },
  {
   "cell_type": "markdown",
   "id": "f4ee7d4d",
   "metadata": {},
   "source": [
    "Genre List"
   ]
  },
  {
   "cell_type": "code",
   "execution_count": 300,
   "id": "e9a9dabe",
   "metadata": {},
   "outputs": [],
   "source": [
    "g_list = []\n",
    "for i in range(df.shape[0]):\n",
    "    for j in range(len(df['Genre'][i])):\n",
    "        g_list.append(df['Genre'][i][j])\n",
    "Genre_list = list(set(g_list))"
   ]
  },
  {
   "cell_type": "markdown",
   "id": "c8cb647f",
   "metadata": {},
   "source": [
    "Network List"
   ]
  },
  {
   "cell_type": "code",
   "execution_count": 301,
   "id": "62315df0",
   "metadata": {},
   "outputs": [],
   "source": [
    "Network_list = df['Network'].unique().tolist()"
   ]
  },
  {
   "cell_type": "markdown",
   "id": "0aeba1c5",
   "metadata": {},
   "source": [
    "Actors List"
   ]
  },
  {
   "cell_type": "code",
   "execution_count": 302,
   "id": "d0b1a059",
   "metadata": {},
   "outputs": [],
   "source": [
    "a_list = []\n",
    "for i in range(df.shape[0]):\n",
    "    for j in range(len(df['Actors'][i])):\n",
    "        a_list.append(df['Actors'][i][j])\n",
    "Actors_list = list(set(a_list))"
   ]
  },
  {
   "cell_type": "markdown",
   "id": "dcb61192",
   "metadata": {},
   "source": [
    "Directors List"
   ]
  },
  {
   "cell_type": "code",
   "execution_count": 305,
   "id": "037034f1",
   "metadata": {},
   "outputs": [],
   "source": [
    "d_list = []\n",
    "for i in range(df.shape[0]):\n",
    "    for j in range(len(df['Director'][i])):\n",
    "        d_list.append(df['Director'][i][j])\n",
    "Directors_list = list(set(d_list))\n"
   ]
  },
  {
   "cell_type": "markdown",
   "id": "d2b14c81",
   "metadata": {},
   "source": [
    "Writers List"
   ]
  },
  {
   "cell_type": "code",
   "execution_count": 308,
   "id": "f5ea7a3b",
   "metadata": {},
   "outputs": [],
   "source": [
    "w_list = []\n",
    "for i in range(df.shape[0]):\n",
    "    for j in range(len(df['Writer'][i])):\n",
    "        w_list.append(df['Writer'][i][j])\n",
    "Writers_list = list(set(w_list))\n"
   ]
  },
  {
   "cell_type": "markdown",
   "id": "09051d5c",
   "metadata": {},
   "source": [
    "Drama List"
   ]
  },
  {
   "cell_type": "code",
   "execution_count": 472,
   "id": "78c4ada0",
   "metadata": {},
   "outputs": [],
   "source": [
    "dr_list = []\n",
    "for i in range(df.shape[0]):\n",
    "    dr_list.append(df['Drama Name'][i])\n",
    "Drama_List = dr_list\n"
   ]
  },
  {
   "cell_type": "markdown",
   "id": "b4c29fdf",
   "metadata": {},
   "source": [
    "### Networking Companies"
   ]
  },
  {
   "cell_type": "code",
   "execution_count": 222,
   "id": "40e482fb",
   "metadata": {},
   "outputs": [],
   "source": [
    "network = df.copy()"
   ]
  },
  {
   "cell_type": "code",
   "execution_count": 223,
   "id": "2ff7b72d",
   "metadata": {},
   "outputs": [],
   "source": [
    "a = network.groupby(by=\"Network\").sum()"
   ]
  },
  {
   "cell_type": "code",
   "execution_count": 224,
   "id": "1bfbe2eb",
   "metadata": {},
   "outputs": [
    {
     "data": {
      "text/plain": [
       "Text(0, 0.5, 'Popularity')"
      ]
     },
     "execution_count": 224,
     "metadata": {},
     "output_type": "execute_result"
    },
    {
     "data": {
      "image/png": "[encoded data removed]",
      "text/plain": [
       "<Figure size 720x288 with 1 Axes>"
      ]
     },
     "metadata": {
      "needs_background": "light"
     },
     "output_type": "display_data"
    }
   ],
   "source": [
    "plt.figure(figsize=(10,4))\n",
    "sns.barplot(x=a.index,y='Rating(Out of 10)',data=a)\n",
    "plt.ylabel(\"Popularity\")"
   ]
  },
  {
   "cell_type": "code",
   "execution_count": 372,
   "id": "01bfdf30",
   "metadata": {},
   "outputs": [
    {
     "data": {
      "image/png": "[encoded data removed]",
      "text/plain": [
       "<Figure size 720x432 with 1 Axes>"
      ]
     },
     "metadata": {},
     "output_type": "display_data"
    }
   ],
   "source": [
    "pie, ax = plt.subplots(figsize=[10,6])\n",
    "labels = a.index.tolist()\n",
    "plt.pie(x=a['Rating(Out of 10)'].tolist(), labels=labels, pctdistance=0.5)\n",
    "plt.title(\"Networking Companies\", fontsize=14);\n"
   ]
  },
  {
   "cell_type": "code",
   "execution_count": 373,
   "id": "33ac3101",
   "metadata": {},
   "outputs": [],
   "source": [
    "d = dict()"
   ]
  },
  {
   "cell_type": "code",
   "execution_count": 374,
   "id": "24472845",
   "metadata": {},
   "outputs": [],
   "source": [
    "def genre_dictionary(com_list):\n",
    "    dictionary_list = []\n",
    "    for c in com_list:\n",
    "        a = network.loc[:,('Genre','Network')]\n",
    "        b = a[a['Network'] == c]\n",
    "        d = dict((g,0) for g in Genre_list)\n",
    "        for i in (b.index.to_list()):\n",
    "            for j in range(len(b['Genre'][i])):\n",
    "                for k in Genre_list:\n",
    "                    if b['Genre'][i][j] == k:\n",
    "                        d[k] +=1\n",
    "        dictionary_list.append(d)\n",
    "        \n",
    "    return dictionary_list\n",
    "\n",
    "    \n",
    "    \n",
    "    "
   ]
  },
  {
   "cell_type": "code",
   "execution_count": 375,
   "id": "5e0a7c00",
   "metadata": {},
   "outputs": [],
   "source": [
    "dic = genre_dictionary(Network_list)"
   ]
  },
  {
   "cell_type": "code",
   "execution_count": 376,
   "id": "07dafa05",
   "metadata": {},
   "outputs": [],
   "source": [
    "for i,j in zip(Network_list,dic):\n",
    "    d[i] = j"
   ]
  },
  {
   "cell_type": "code",
   "execution_count": 416,
   "id": "354f2442",
   "metadata": {},
   "outputs": [],
   "source": [
    "netdata = pd.DataFrame.from_dict(d, orient ='index') \n"
   ]
  },
  {
   "cell_type": "code",
   "execution_count": 436,
   "id": "353b635d",
   "metadata": {},
   "outputs": [],
   "source": [
    "#Piechart\n",
    "def network_piechart(nw):\n",
    "    d = netdata[netdata.index == str(nw)]\n",
    "    plt.figure(figsize=(9,9))\n",
    "    net_list = []\n",
    "    for i in range(1):\n",
    "        for j in range(d.shape[1]):\n",
    "            if d.iloc[i,j] == 0:\n",
    "                pass\n",
    "            else:\n",
    "                net_list.append(d.columns[j])\n",
    "    Genre = net_list\n",
    "\n",
    "\n",
    "    Value = list(filter(lambda a: a != 0,d.iloc[0,:].tolist()))\n",
    "\n",
    "\n",
    "    # Pie Chart\n",
    "    plt.pie(Value, labels=Genre,\n",
    "            autopct='%1.1f%%', pctdistance=0.9)\n",
    "\n",
    "    # draw circle\n",
    "    centre_circle = plt.Circle((0, 0), 0.70, fc='white')\n",
    "    fig = plt.gcf()\n",
    "\n",
    "    # Adding Circle in Pie chart\n",
    "    fig.gca().add_artist(centre_circle)\n",
    "\n",
    "    # Adding Title of chart\n",
    "    plt.title(nw)\n",
    "\n",
    "    # Displaing Chart\n",
    "    plt.show()"
   ]
  },
  {
   "cell_type": "code",
   "execution_count": 437,
   "id": "4b3141dc",
   "metadata": {},
   "outputs": [
    {
     "data": {
      "image/png": "[encoded data removed]",
      "text/plain": [
       "<Figure size 648x648 with 1 Axes>"
      ]
     },
     "metadata": {},
     "output_type": "display_data"
    }
   ],
   "source": [
    "network_piechart('KBS')"
   ]
  },
  {
   "cell_type": "code",
   "execution_count": 415,
   "id": "0c1ccddf",
   "metadata": {},
   "outputs": [
    {
     "data": {
      "image/png": "[encoded data removed]",
      "text/plain": [
       "<Figure size 648x648 with 1 Axes>"
      ]
     },
     "metadata": {},
     "output_type": "display_data"
    }
   ],
   "source": [
    "\n"
   ]
  },
  {
   "cell_type": "code",
   "execution_count": 438,
   "id": "541974c7",
   "metadata": {},
   "outputs": [
    {
     "data": {
      "image/png": "[encoded data removed]",
      "text/plain": [
       "<Figure size 648x648 with 1 Axes>"
      ]
     },
     "metadata": {},
     "output_type": "display_data"
    }
   ],
   "source": [
    "network_piechart('SBS')"
   ]
  },
  {
   "cell_type": "code",
   "execution_count": 440,
   "id": "4b7ccfc9",
   "metadata": {},
   "outputs": [
    {
     "data": {
      "image/png": "[encoded data removed]",
      "text/plain": [
       "<Figure size 648x648 with 1 Axes>"
      ]
     },
     "metadata": {},
     "output_type": "display_data"
    }
   ],
   "source": [
    "network_piechart('TvN')"
   ]
  },
  {
   "cell_type": "markdown",
   "id": "1733b6ca",
   "metadata": {},
   "source": [
    "## Actors"
   ]
  },
  {
   "cell_type": "code",
   "execution_count": 963,
   "id": "389c0579",
   "metadata": {},
   "outputs": [],
   "source": [
    "actors = df.copy()\n"
   ]
  },
  {
   "cell_type": "code",
   "execution_count": 964,
   "id": "66d06f8d",
   "metadata": {},
   "outputs": [],
   "source": [
    "A = actors.loc[:,('Drama Name','Rating(Out of 10)','Actors','Genre','Network')]"
   ]
  },
  {
   "cell_type": "code",
   "execution_count": 965,
   "id": "e4612004",
   "metadata": {},
   "outputs": [],
   "source": [
    "drama_list = []\n",
    "for c in Drama_List:\n",
    "    a = actors.loc[:,('Drama Name','Rating(Out of 10)','Actors','Genre','Network')]\n",
    "    b = a[a['Drama Name'] == c]\n",
    "    drama = dict((g,0) for g in Genre_list)\n",
    "    for i in (b.index.to_list()):\n",
    "        for j in range(len(b['Genre'][i])):\n",
    "            for k in Genre_list:\n",
    "                if b['Genre'][i][j] == k:\n",
    "                    drama[k] +=1\n",
    "    \n",
    "    drama_list.append(drama)\n",
    "        \n"
   ]
  },
  {
   "cell_type": "code",
   "execution_count": 966,
   "id": "79de4f74",
   "metadata": {},
   "outputs": [],
   "source": [
    "d = dict()\n",
    "for i,j in zip(Drama_List,drama_list):\n",
    "    d[i] = j\n"
   ]
  },
  {
   "cell_type": "code",
   "execution_count": 967,
   "id": "0b8aa4f4",
   "metadata": {},
   "outputs": [
    {
     "name": "stdout",
     "output_type": "stream",
     "text": [
      "Enter the actor name:Lee Min-ho\n",
      "Legend of the Blue Sea\n",
      "The Heirs\n",
      "The King: Eternal Monarch\n",
      "Boys over Flowers\n"
     ]
    },
    {
     "data": {
      "image/png": "[encoded data removed]",
      "text/plain": [
       "<Figure size 432x288 with 1 Axes>"
      ]
     },
     "metadata": {
      "needs_background": "light"
     },
     "output_type": "display_data"
    },
    {
     "data": {
      "image/png": "[encoded data removed]",
      "text/plain": [
       "<Figure size 720x432 with 1 Axes>"
      ]
     },
     "metadata": {},
     "output_type": "display_data"
    }
   ],
   "source": [
    "dramadata = pd.DataFrame.from_dict(d,orient='index')\n",
    "dramadata.index.name = 'Drama Name'\n",
    "actordata = pd.merge(A,dramadata,on='Drama Name')\n",
    "actdata = pd.DataFrame(columns = actordata.columns.tolist())\n",
    "index_ = []\n",
    "user = input(\"Enter the actor name:\")\n",
    "for i in range(actordata.shape[0]):\n",
    "    if user in actordata['Actors'][i]:\n",
    "        index_.append(actordata[actordata['Drama Name'] == actordata['Drama Name'][i]])\n",
    "        print(actordata['Drama Name'][i])\n",
    "result = pd.concat(index_)\n",
    "#result.iloc[:,4:].sum()\n",
    "lst = []\n",
    "z = result.iloc[:,5:]\n",
    "for i in range(z.sum().shape[0]):\n",
    "    if z.sum()[i] == 0:\n",
    "        lst.append(z.columns[i])   \n",
    "z = z.drop(lst,axis=1)  \n",
    "sns.barplot(z.columns.tolist(),z.sum())\n",
    "pie, ax = plt.subplots(figsize=[10,6])\n",
    "labels = result['Network'].value_counts().index.values.tolist()\n",
    "plt.pie(x=result['Network'].value_counts().values.tolist(), labels=labels, pctdistance=0.5)\n",
    "plt.title(user, fontsize=14);\n"
   ]
  },
  {
   "cell_type": "markdown",
   "id": "c5f9cabf",
   "metadata": {},
   "source": [
    "TOP 5 Popular Actors/Actress\n"
   ]
  },
  {
   "cell_type": "code",
   "execution_count": 979,
   "id": "f7f7cf80",
   "metadata": {},
   "outputs": [
    {
     "data": {
      "text/html": [
       "<div>\n",
       "<style scoped>\n",
       "    .dataframe tbody tr th:only-of-type {\n",
       "        vertical-align: middle;\n",
       "    }\n",
       "\n",
       "    .dataframe tbody tr th {\n",
       "        vertical-align: top;\n",
       "    }\n",
       "\n",
       "    .dataframe thead th {\n",
       "        text-align: right;\n",
       "    }\n",
       "</style>\n",
       "<table border=\"1\" class=\"dataframe\">\n",
       "  <thead>\n",
       "    <tr style=\"text-align: right;\">\n",
       "      <th></th>\n",
       "      <th>Drama Name</th>\n",
       "    </tr>\n",
       "    <tr>\n",
       "      <th>Actor Name</th>\n",
       "      <th></th>\n",
       "    </tr>\n",
       "  </thead>\n",
       "  <tbody>\n",
       "    <tr>\n",
       "      <th>Park Shin-hye</th>\n",
       "      <td>5</td>\n",
       "    </tr>\n",
       "    <tr>\n",
       "      <th>Bae Suzy</th>\n",
       "      <td>4</td>\n",
       "    </tr>\n",
       "    <tr>\n",
       "      <th>Gong Yoo</th>\n",
       "      <td>4</td>\n",
       "    </tr>\n",
       "    <tr>\n",
       "      <th>Lee Min-ho</th>\n",
       "      <td>4</td>\n",
       "    </tr>\n",
       "    <tr>\n",
       "      <th>Park Seo-joon</th>\n",
       "      <td>4</td>\n",
       "    </tr>\n",
       "  </tbody>\n",
       "</table>\n",
       "</div>"
      ],
      "text/plain": [
       "               Drama Name\n",
       "Actor Name               \n",
       "Park Shin-hye           5\n",
       "Bae Suzy                4\n",
       "Gong Yoo                4\n",
       "Lee Min-ho              4\n",
       "Park Seo-joon           4"
      ]
     },
     "execution_count": 979,
     "metadata": {},
     "output_type": "execute_result"
    }
   ],
   "source": [
    "index_ = []\n",
    "act_ = []\n",
    "for i in range(actordata.shape[0]):\n",
    "    for j in Actors_list:\n",
    "        if j in actordata['Actors'][i]:\n",
    "            act_.append(j)\n",
    "            index_.append(actordata[actordata['Drama Name'] == actordata['Drama Name'][i]])\n",
    "result = pd.concat(index_)\n",
    "result['Actor Name'] = act_\n",
    "result.groupby('Actor Name')['Drama Name','Rating(Out of 10)'].count().sort_values(by='Drama Name',ascending=False).head(5).iloc[:,:-1]"
   ]
  },
  {
   "cell_type": "markdown",
   "id": "2163703a",
   "metadata": {},
   "source": [
    "## Drama"
   ]
  },
  {
   "cell_type": "code",
   "execution_count": 990,
   "id": "ac3a2cf3",
   "metadata": {},
   "outputs": [],
   "source": [
    "Drama = df.copy()"
   ]
  },
  {
   "cell_type": "code",
   "execution_count": 991,
   "id": "c2c336c5",
   "metadata": {},
   "outputs": [],
   "source": [
    "Drama = Drama.drop(['Actors','Director','Writer','Network'],axis=1)"
   ]
  },
  {
   "cell_type": "code",
   "execution_count": 992,
   "id": "60a1a596",
   "metadata": {},
   "outputs": [],
   "source": [
    "drama_list = []\n",
    "for c in Drama_List:\n",
    "    b = Drama[Drama['Drama Name'] == c]\n",
    "    drama = dict((g,0) for g in Genre_list)\n",
    "    for i in (b.index.to_list()):\n",
    "        for j in range(len(b['Genre'][i])):\n",
    "            for k in Genre_list:\n",
    "                if b['Genre'][i][j] == k:\n",
    "                    drama[k] +=1\n",
    "    \n",
    "    drama_list.append(drama)\n",
    "        "
   ]
  },
  {
   "cell_type": "code",
   "execution_count": 993,
   "id": "29a3f562",
   "metadata": {},
   "outputs": [],
   "source": [
    "d = dict()\n",
    "for i,j in zip(Drama_List,drama_list):\n",
    "    d[i] = j"
   ]
  },
  {
   "cell_type": "code",
   "execution_count": 994,
   "id": "048717a9",
   "metadata": {},
   "outputs": [],
   "source": [
    "dramadata = pd.DataFrame.from_dict(d,orient='index')\n",
    "dramadata.index.name = 'Drama Name'\n",
    "Drama = pd.merge(Drama,dramadata,on='Drama Name')\n",
    "Drama = Drama.drop(['Genre'],axis=1)"
   ]
  },
  {
   "cell_type": "code",
   "execution_count": 995,
   "id": "fae05110",
   "metadata": {},
   "outputs": [
    {
     "data": {
      "text/html": [
       "<div>\n",
       "<style scoped>\n",
       "    .dataframe tbody tr th:only-of-type {\n",
       "        vertical-align: middle;\n",
       "    }\n",
       "\n",
       "    .dataframe tbody tr th {\n",
       "        vertical-align: top;\n",
       "    }\n",
       "\n",
       "    .dataframe thead th {\n",
       "        text-align: right;\n",
       "    }\n",
       "</style>\n",
       "<table border=\"1\" class=\"dataframe\">\n",
       "  <thead>\n",
       "    <tr style=\"text-align: right;\">\n",
       "      <th></th>\n",
       "      <th>Drama Name</th>\n",
       "      <th>Rating(Out of 10)</th>\n",
       "      <th>Viewship Rate</th>\n",
       "      <th>Year</th>\n",
       "      <th>No of Episodes</th>\n",
       "      <th>Slice of life</th>\n",
       "      <th>Romance</th>\n",
       "      <th>Crime</th>\n",
       "      <th>Fantasy</th>\n",
       "      <th>Youth</th>\n",
       "      <th>...</th>\n",
       "      <th>Action</th>\n",
       "      <th>Dark Comedy</th>\n",
       "      <th>Comedy</th>\n",
       "      <th>Music</th>\n",
       "      <th>Sports</th>\n",
       "      <th>Medical</th>\n",
       "      <th>Drama</th>\n",
       "      <th>Period</th>\n",
       "      <th>Life</th>\n",
       "      <th>Politics</th>\n",
       "    </tr>\n",
       "  </thead>\n",
       "  <tbody>\n",
       "    <tr>\n",
       "      <th>0</th>\n",
       "      <td>Legend of the Blue Sea</td>\n",
       "      <td>8.1</td>\n",
       "      <td>17.60</td>\n",
       "      <td>2016</td>\n",
       "      <td>21.0</td>\n",
       "      <td>0</td>\n",
       "      <td>1</td>\n",
       "      <td>0</td>\n",
       "      <td>1</td>\n",
       "      <td>0</td>\n",
       "      <td>...</td>\n",
       "      <td>0</td>\n",
       "      <td>0</td>\n",
       "      <td>1</td>\n",
       "      <td>0</td>\n",
       "      <td>0</td>\n",
       "      <td>0</td>\n",
       "      <td>0</td>\n",
       "      <td>0</td>\n",
       "      <td>0</td>\n",
       "      <td>0</td>\n",
       "    </tr>\n",
       "    <tr>\n",
       "      <th>1</th>\n",
       "      <td>The Heirs</td>\n",
       "      <td>7.5</td>\n",
       "      <td>16.70</td>\n",
       "      <td>2013</td>\n",
       "      <td>20.0</td>\n",
       "      <td>0</td>\n",
       "      <td>1</td>\n",
       "      <td>0</td>\n",
       "      <td>0</td>\n",
       "      <td>0</td>\n",
       "      <td>...</td>\n",
       "      <td>0</td>\n",
       "      <td>0</td>\n",
       "      <td>0</td>\n",
       "      <td>0</td>\n",
       "      <td>0</td>\n",
       "      <td>0</td>\n",
       "      <td>1</td>\n",
       "      <td>0</td>\n",
       "      <td>0</td>\n",
       "      <td>0</td>\n",
       "    </tr>\n",
       "    <tr>\n",
       "      <th>2</th>\n",
       "      <td>The King: Eternal Monarch</td>\n",
       "      <td>8.3</td>\n",
       "      <td>7.70</td>\n",
       "      <td>2020</td>\n",
       "      <td>16.0</td>\n",
       "      <td>0</td>\n",
       "      <td>1</td>\n",
       "      <td>0</td>\n",
       "      <td>1</td>\n",
       "      <td>0</td>\n",
       "      <td>...</td>\n",
       "      <td>0</td>\n",
       "      <td>0</td>\n",
       "      <td>0</td>\n",
       "      <td>0</td>\n",
       "      <td>0</td>\n",
       "      <td>0</td>\n",
       "      <td>1</td>\n",
       "      <td>0</td>\n",
       "      <td>0</td>\n",
       "      <td>0</td>\n",
       "    </tr>\n",
       "    <tr>\n",
       "      <th>3</th>\n",
       "      <td>Boys over Flowers</td>\n",
       "      <td>7.9</td>\n",
       "      <td>25.70</td>\n",
       "      <td>2009</td>\n",
       "      <td>25.0</td>\n",
       "      <td>0</td>\n",
       "      <td>1</td>\n",
       "      <td>0</td>\n",
       "      <td>0</td>\n",
       "      <td>0</td>\n",
       "      <td>...</td>\n",
       "      <td>0</td>\n",
       "      <td>0</td>\n",
       "      <td>1</td>\n",
       "      <td>0</td>\n",
       "      <td>0</td>\n",
       "      <td>0</td>\n",
       "      <td>1</td>\n",
       "      <td>0</td>\n",
       "      <td>0</td>\n",
       "      <td>0</td>\n",
       "    </tr>\n",
       "    <tr>\n",
       "      <th>4</th>\n",
       "      <td>Guardian: the lonely and the great god</td>\n",
       "      <td>8.6</td>\n",
       "      <td>12.81</td>\n",
       "      <td>2016</td>\n",
       "      <td>18.0</td>\n",
       "      <td>0</td>\n",
       "      <td>1</td>\n",
       "      <td>0</td>\n",
       "      <td>1</td>\n",
       "      <td>0</td>\n",
       "      <td>...</td>\n",
       "      <td>0</td>\n",
       "      <td>0</td>\n",
       "      <td>0</td>\n",
       "      <td>0</td>\n",
       "      <td>0</td>\n",
       "      <td>0</td>\n",
       "      <td>1</td>\n",
       "      <td>0</td>\n",
       "      <td>0</td>\n",
       "      <td>0</td>\n",
       "    </tr>\n",
       "    <tr>\n",
       "      <th>...</th>\n",
       "      <td>...</td>\n",
       "      <td>...</td>\n",
       "      <td>...</td>\n",
       "      <td>...</td>\n",
       "      <td>...</td>\n",
       "      <td>...</td>\n",
       "      <td>...</td>\n",
       "      <td>...</td>\n",
       "      <td>...</td>\n",
       "      <td>...</td>\n",
       "      <td>...</td>\n",
       "      <td>...</td>\n",
       "      <td>...</td>\n",
       "      <td>...</td>\n",
       "      <td>...</td>\n",
       "      <td>...</td>\n",
       "      <td>...</td>\n",
       "      <td>...</td>\n",
       "      <td>...</td>\n",
       "      <td>...</td>\n",
       "      <td>...</td>\n",
       "    </tr>\n",
       "    <tr>\n",
       "      <th>83</th>\n",
       "      <td>Hospital Playlist</td>\n",
       "      <td>8.7</td>\n",
       "      <td>10.90</td>\n",
       "      <td>2020</td>\n",
       "      <td>12.0</td>\n",
       "      <td>0</td>\n",
       "      <td>1</td>\n",
       "      <td>0</td>\n",
       "      <td>0</td>\n",
       "      <td>0</td>\n",
       "      <td>...</td>\n",
       "      <td>0</td>\n",
       "      <td>0</td>\n",
       "      <td>1</td>\n",
       "      <td>0</td>\n",
       "      <td>0</td>\n",
       "      <td>1</td>\n",
       "      <td>1</td>\n",
       "      <td>0</td>\n",
       "      <td>1</td>\n",
       "      <td>0</td>\n",
       "    </tr>\n",
       "    <tr>\n",
       "      <th>84</th>\n",
       "      <td>Abyss</td>\n",
       "      <td>7.1</td>\n",
       "      <td>2.66</td>\n",
       "      <td>2019</td>\n",
       "      <td>16.0</td>\n",
       "      <td>0</td>\n",
       "      <td>1</td>\n",
       "      <td>1</td>\n",
       "      <td>1</td>\n",
       "      <td>0</td>\n",
       "      <td>...</td>\n",
       "      <td>0</td>\n",
       "      <td>0</td>\n",
       "      <td>1</td>\n",
       "      <td>0</td>\n",
       "      <td>0</td>\n",
       "      <td>0</td>\n",
       "      <td>0</td>\n",
       "      <td>0</td>\n",
       "      <td>0</td>\n",
       "      <td>0</td>\n",
       "    </tr>\n",
       "    <tr>\n",
       "      <th>85</th>\n",
       "      <td>School 2017</td>\n",
       "      <td>7.6</td>\n",
       "      <td>4.80</td>\n",
       "      <td>2017</td>\n",
       "      <td>16.0</td>\n",
       "      <td>0</td>\n",
       "      <td>1</td>\n",
       "      <td>0</td>\n",
       "      <td>0</td>\n",
       "      <td>0</td>\n",
       "      <td>...</td>\n",
       "      <td>0</td>\n",
       "      <td>0</td>\n",
       "      <td>1</td>\n",
       "      <td>0</td>\n",
       "      <td>0</td>\n",
       "      <td>0</td>\n",
       "      <td>0</td>\n",
       "      <td>0</td>\n",
       "      <td>0</td>\n",
       "      <td>0</td>\n",
       "    </tr>\n",
       "    <tr>\n",
       "      <th>86</th>\n",
       "      <td>My roommate is a gumiho</td>\n",
       "      <td>8.7</td>\n",
       "      <td>5.50</td>\n",
       "      <td>2021</td>\n",
       "      <td>16.0</td>\n",
       "      <td>0</td>\n",
       "      <td>1</td>\n",
       "      <td>0</td>\n",
       "      <td>1</td>\n",
       "      <td>0</td>\n",
       "      <td>...</td>\n",
       "      <td>0</td>\n",
       "      <td>0</td>\n",
       "      <td>1</td>\n",
       "      <td>0</td>\n",
       "      <td>0</td>\n",
       "      <td>0</td>\n",
       "      <td>0</td>\n",
       "      <td>0</td>\n",
       "      <td>0</td>\n",
       "      <td>0</td>\n",
       "    </tr>\n",
       "    <tr>\n",
       "      <th>87</th>\n",
       "      <td>Shopaholic Louis</td>\n",
       "      <td>7.5</td>\n",
       "      <td>9.40</td>\n",
       "      <td>2016</td>\n",
       "      <td>16.0</td>\n",
       "      <td>0</td>\n",
       "      <td>1</td>\n",
       "      <td>0</td>\n",
       "      <td>0</td>\n",
       "      <td>0</td>\n",
       "      <td>...</td>\n",
       "      <td>0</td>\n",
       "      <td>0</td>\n",
       "      <td>1</td>\n",
       "      <td>0</td>\n",
       "      <td>0</td>\n",
       "      <td>0</td>\n",
       "      <td>0</td>\n",
       "      <td>0</td>\n",
       "      <td>0</td>\n",
       "      <td>0</td>\n",
       "    </tr>\n",
       "  </tbody>\n",
       "</table>\n",
       "<p>88 rows × 30 columns</p>\n",
       "</div>"
      ],
      "text/plain": [
       "                                Drama Name  Rating(Out of 10)  Viewship Rate  \\\n",
       "0                   Legend of the Blue Sea                8.1          17.60   \n",
       "1                                The Heirs                7.5          16.70   \n",
       "2                The King: Eternal Monarch                8.3           7.70   \n",
       "3                        Boys over Flowers                7.9          25.70   \n",
       "4   Guardian: the lonely and the great god                8.6          12.81   \n",
       "..                                     ...                ...            ...   \n",
       "83                       Hospital Playlist                8.7          10.90   \n",
       "84                                   Abyss                7.1           2.66   \n",
       "85                             School 2017                7.6           4.80   \n",
       "86                 My roommate is a gumiho                8.7           5.50   \n",
       "87                        Shopaholic Louis                7.5           9.40   \n",
       "\n",
       "    Year  No of Episodes  Slice of life  Romance  Crime  Fantasy  Youth  ...  \\\n",
       "0   2016            21.0              0        1      0        1      0  ...   \n",
       "1   2013            20.0              0        1      0        0      0  ...   \n",
       "2   2020            16.0              0        1      0        1      0  ...   \n",
       "3   2009            25.0              0        1      0        0      0  ...   \n",
       "4   2016            18.0              0        1      0        1      0  ...   \n",
       "..   ...             ...            ...      ...    ...      ...    ...  ...   \n",
       "83  2020            12.0              0        1      0        0      0  ...   \n",
       "84  2019            16.0              0        1      1        1      0  ...   \n",
       "85  2017            16.0              0        1      0        0      0  ...   \n",
       "86  2021            16.0              0        1      0        1      0  ...   \n",
       "87  2016            16.0              0        1      0        0      0  ...   \n",
       "\n",
       "    Action  Dark Comedy  Comedy  Music  Sports  Medical  Drama  Period  Life  \\\n",
       "0        0            0       1      0       0        0      0       0     0   \n",
       "1        0            0       0      0       0        0      1       0     0   \n",
       "2        0            0       0      0       0        0      1       0     0   \n",
       "3        0            0       1      0       0        0      1       0     0   \n",
       "4        0            0       0      0       0        0      1       0     0   \n",
       "..     ...          ...     ...    ...     ...      ...    ...     ...   ...   \n",
       "83       0            0       1      0       0        1      1       0     1   \n",
       "84       0            0       1      0       0        0      0       0     0   \n",
       "85       0            0       1      0       0        0      0       0     0   \n",
       "86       0            0       1      0       0        0      0       0     0   \n",
       "87       0            0       1      0       0        0      0       0     0   \n",
       "\n",
       "    Politics  \n",
       "0          0  \n",
       "1          0  \n",
       "2          0  \n",
       "3          0  \n",
       "4          0  \n",
       "..       ...  \n",
       "83         0  \n",
       "84         0  \n",
       "85         0  \n",
       "86         0  \n",
       "87         0  \n",
       "\n",
       "[88 rows x 30 columns]"
      ]
     },
     "execution_count": 995,
     "metadata": {},
     "output_type": "execute_result"
    }
   ],
   "source": [
    "Drama"
   ]
  },
  {
   "cell_type": "code",
   "execution_count": 996,
   "id": "d635f607",
   "metadata": {},
   "outputs": [
    {
     "name": "stdout",
     "output_type": "stream",
     "text": [
      "Enter the Drama name:Boys over Flowers\n"
     ]
    },
    {
     "data": {
      "text/plain": [
       "<AxesSubplot:>"
      ]
     },
     "execution_count": 996,
     "metadata": {},
     "output_type": "execute_result"
    },
    {
     "data": {
      "image/png": "[encoded data removed]",
      "text/plain": [
       "<Figure size 432x288 with 1 Axes>"
      ]
     },
     "metadata": {
      "needs_background": "light"
     },
     "output_type": "display_data"
    }
   ],
   "source": [
    "index_ = []\n",
    "user = input(\"Enter the Drama name:\")\n",
    "for i in range(Drama.shape[0]):\n",
    "    if user in Drama['Drama Name'][i]:\n",
    "        index_.append(actordata[actordata['Drama Name'] == actordata['Drama Name'][i]])\n",
    "result = pd.concat(index_)\n",
    "#result.iloc[:,4:].sum()\n",
    "lst = []\n",
    "z = result.iloc[:,5:]\n",
    "for i in range(z.sum().shape[0]):\n",
    "    if z.sum()[i] == 0:\n",
    "        lst.append(z.columns[i])   \n",
    "z = z.drop(lst,axis=1)  \n",
    "sns.barplot(z.columns.tolist(),z.sum())"
   ]
  },
  {
   "cell_type": "code",
   "execution_count": 997,
   "id": "cdcf2368",
   "metadata": {},
   "outputs": [
    {
     "data": {
      "image/png": "[encoded data removed]",
      "text/plain": [
       "<Figure size 648x576 with 1 Axes>"
      ]
     },
     "metadata": {
      "needs_background": "light"
     },
     "output_type": "display_data"
    }
   ],
   "source": [
    "plt.figure(figsize=(9,8))\n",
    "ax = sns.countplot(Drama[\"Year\"], \n",
    "                   order = Drama[\"Year\"].value_counts().index)\n",
    "\n",
    "for p, label in zip(ax.patches, Drama[\"Year\"].value_counts().index):\n",
    "    ax.annotate(label, (p.get_x()+0.1, p.get_height()+0.15))"
   ]
  },
  {
   "cell_type": "markdown",
   "id": "d441c9d7",
   "metadata": {},
   "source": [
    "Recommended Top 5 Kdrama Based on :"
   ]
  },
  {
   "cell_type": "markdown",
   "id": "19cf60a9",
   "metadata": {},
   "source": [
    "1. General"
   ]
  },
  {
   "cell_type": "code",
   "execution_count": 998,
   "id": "a49f0ef5",
   "metadata": {},
   "outputs": [
    {
     "data": {
      "text/html": [
       "<div>\n",
       "<style scoped>\n",
       "    .dataframe tbody tr th:only-of-type {\n",
       "        vertical-align: middle;\n",
       "    }\n",
       "\n",
       "    .dataframe tbody tr th {\n",
       "        vertical-align: top;\n",
       "    }\n",
       "\n",
       "    .dataframe thead th {\n",
       "        text-align: right;\n",
       "    }\n",
       "</style>\n",
       "<table border=\"1\" class=\"dataframe\">\n",
       "  <thead>\n",
       "    <tr style=\"text-align: right;\">\n",
       "      <th></th>\n",
       "      <th>Drama Name</th>\n",
       "      <th>Rating(Out of 10)</th>\n",
       "      <th>Viewship Rate</th>\n",
       "      <th>Year</th>\n",
       "      <th>No of Episodes</th>\n",
       "    </tr>\n",
       "  </thead>\n",
       "  <tbody>\n",
       "    <tr>\n",
       "      <th>53</th>\n",
       "      <td>Reply 1988</td>\n",
       "      <td>9.1</td>\n",
       "      <td>12.30</td>\n",
       "      <td>2015</td>\n",
       "      <td>20.0</td>\n",
       "    </tr>\n",
       "    <tr>\n",
       "      <th>14</th>\n",
       "      <td>It’s okay to not be okay</td>\n",
       "      <td>8.8</td>\n",
       "      <td>5.42</td>\n",
       "      <td>2020</td>\n",
       "      <td>16.0</td>\n",
       "    </tr>\n",
       "    <tr>\n",
       "      <th>52</th>\n",
       "      <td>Youth of May</td>\n",
       "      <td>8.8</td>\n",
       "      <td>4.30</td>\n",
       "      <td>2021</td>\n",
       "      <td>12.0</td>\n",
       "    </tr>\n",
       "    <tr>\n",
       "      <th>34</th>\n",
       "      <td>Flower of Evil</td>\n",
       "      <td>8.8</td>\n",
       "      <td>3.92</td>\n",
       "      <td>2020</td>\n",
       "      <td>16.0</td>\n",
       "    </tr>\n",
       "    <tr>\n",
       "      <th>73</th>\n",
       "      <td>Doom at your service</td>\n",
       "      <td>8.8</td>\n",
       "      <td>3.00</td>\n",
       "      <td>2021</td>\n",
       "      <td>16.0</td>\n",
       "    </tr>\n",
       "  </tbody>\n",
       "</table>\n",
       "</div>"
      ],
      "text/plain": [
       "                  Drama Name  Rating(Out of 10)  Viewship Rate  Year  \\\n",
       "53                Reply 1988                9.1          12.30  2015   \n",
       "14  It’s okay to not be okay                8.8           5.42  2020   \n",
       "52              Youth of May                8.8           4.30  2021   \n",
       "34            Flower of Evil                8.8           3.92  2020   \n",
       "73      Doom at your service                8.8           3.00  2021   \n",
       "\n",
       "    No of Episodes  \n",
       "53            20.0  \n",
       "14            16.0  \n",
       "52            12.0  \n",
       "34            16.0  \n",
       "73            16.0  "
      ]
     },
     "execution_count": 998,
     "metadata": {},
     "output_type": "execute_result"
    }
   ],
   "source": [
    "Drama.sort_values(by=['Rating(Out of 10)','Viewship Rate'],ascending=[False,False]).head(5).iloc[:,:5]"
   ]
  },
  {
   "cell_type": "markdown",
   "id": "bb032993",
   "metadata": {},
   "source": [
    "2. Year"
   ]
  },
  {
   "cell_type": "code",
   "execution_count": 999,
   "id": "1a5eacc1",
   "metadata": {},
   "outputs": [
    {
     "name": "stdout",
     "output_type": "stream",
     "text": [
      "Enter Year:2021\n"
     ]
    },
    {
     "data": {
      "text/html": [
       "<div>\n",
       "<style scoped>\n",
       "    .dataframe tbody tr th:only-of-type {\n",
       "        vertical-align: middle;\n",
       "    }\n",
       "\n",
       "    .dataframe tbody tr th {\n",
       "        vertical-align: top;\n",
       "    }\n",
       "\n",
       "    .dataframe thead th {\n",
       "        text-align: right;\n",
       "    }\n",
       "</style>\n",
       "<table border=\"1\" class=\"dataframe\">\n",
       "  <thead>\n",
       "    <tr style=\"text-align: right;\">\n",
       "      <th></th>\n",
       "      <th>Drama Name</th>\n",
       "      <th>Rating(Out of 10)</th>\n",
       "      <th>Viewship Rate</th>\n",
       "      <th>Year</th>\n",
       "      <th>No of Episodes</th>\n",
       "    </tr>\n",
       "  </thead>\n",
       "  <tbody>\n",
       "    <tr>\n",
       "      <th>52</th>\n",
       "      <td>Youth of May</td>\n",
       "      <td>8.8</td>\n",
       "      <td>4.30</td>\n",
       "      <td>2021</td>\n",
       "      <td>12.0</td>\n",
       "    </tr>\n",
       "    <tr>\n",
       "      <th>73</th>\n",
       "      <td>Doom at your service</td>\n",
       "      <td>8.8</td>\n",
       "      <td>3.00</td>\n",
       "      <td>2021</td>\n",
       "      <td>16.0</td>\n",
       "    </tr>\n",
       "    <tr>\n",
       "      <th>86</th>\n",
       "      <td>My roommate is a gumiho</td>\n",
       "      <td>8.7</td>\n",
       "      <td>5.50</td>\n",
       "      <td>2021</td>\n",
       "      <td>16.0</td>\n",
       "    </tr>\n",
       "    <tr>\n",
       "      <th>59</th>\n",
       "      <td>Vincenzo</td>\n",
       "      <td>8.6</td>\n",
       "      <td>10.44</td>\n",
       "      <td>2021</td>\n",
       "      <td>20.0</td>\n",
       "    </tr>\n",
       "    <tr>\n",
       "      <th>74</th>\n",
       "      <td>Law school</td>\n",
       "      <td>8.1</td>\n",
       "      <td>5.30</td>\n",
       "      <td>2021</td>\n",
       "      <td>16.0</td>\n",
       "    </tr>\n",
       "  </tbody>\n",
       "</table>\n",
       "</div>"
      ],
      "text/plain": [
       "                 Drama Name  Rating(Out of 10)  Viewship Rate  Year  \\\n",
       "52             Youth of May                8.8           4.30  2021   \n",
       "73     Doom at your service                8.8           3.00  2021   \n",
       "86  My roommate is a gumiho                8.7           5.50  2021   \n",
       "59                 Vincenzo                8.6          10.44  2021   \n",
       "74               Law school                8.1           5.30  2021   \n",
       "\n",
       "    No of Episodes  \n",
       "52            12.0  \n",
       "73            16.0  \n",
       "86            16.0  \n",
       "59            20.0  \n",
       "74            16.0  "
      ]
     },
     "execution_count": 999,
     "metadata": {},
     "output_type": "execute_result"
    }
   ],
   "source": [
    "year = int(input('Enter Year:'))\n",
    "Drama[Drama['Year'] == year].sort_values(by=['Rating(Out of 10)','Viewship Rate'],ascending=[False,False]).head(5).iloc[:,:5]"
   ]
  },
  {
   "cell_type": "markdown",
   "id": "5714f602",
   "metadata": {},
   "source": [
    "3. Genre"
   ]
  },
  {
   "cell_type": "code",
   "execution_count": 1000,
   "id": "d02563c4",
   "metadata": {},
   "outputs": [
    {
     "name": "stdout",
     "output_type": "stream",
     "text": [
      "Enter your Genre:Drama\n"
     ]
    },
    {
     "data": {
      "text/html": [
       "<div>\n",
       "<style scoped>\n",
       "    .dataframe tbody tr th:only-of-type {\n",
       "        vertical-align: middle;\n",
       "    }\n",
       "\n",
       "    .dataframe tbody tr th {\n",
       "        vertical-align: top;\n",
       "    }\n",
       "\n",
       "    .dataframe thead th {\n",
       "        text-align: right;\n",
       "    }\n",
       "</style>\n",
       "<table border=\"1\" class=\"dataframe\">\n",
       "  <thead>\n",
       "    <tr style=\"text-align: right;\">\n",
       "      <th></th>\n",
       "      <th>Drama Name</th>\n",
       "      <th>Rating(Out of 10)</th>\n",
       "      <th>Viewship Rate</th>\n",
       "      <th>Year</th>\n",
       "      <th>No of Episodes</th>\n",
       "    </tr>\n",
       "  </thead>\n",
       "  <tbody>\n",
       "    <tr>\n",
       "      <th>14</th>\n",
       "      <td>It’s okay to not be okay</td>\n",
       "      <td>8.8</td>\n",
       "      <td>5.42</td>\n",
       "      <td>2020</td>\n",
       "      <td>16.0</td>\n",
       "    </tr>\n",
       "    <tr>\n",
       "      <th>52</th>\n",
       "      <td>Youth of May</td>\n",
       "      <td>8.8</td>\n",
       "      <td>4.30</td>\n",
       "      <td>2021</td>\n",
       "      <td>12.0</td>\n",
       "    </tr>\n",
       "    <tr>\n",
       "      <th>34</th>\n",
       "      <td>Flower of Evil</td>\n",
       "      <td>8.8</td>\n",
       "      <td>3.92</td>\n",
       "      <td>2020</td>\n",
       "      <td>16.0</td>\n",
       "    </tr>\n",
       "    <tr>\n",
       "      <th>40</th>\n",
       "      <td>Crash Landing on you</td>\n",
       "      <td>8.7</td>\n",
       "      <td>12.15</td>\n",
       "      <td>2019</td>\n",
       "      <td>16.0</td>\n",
       "    </tr>\n",
       "    <tr>\n",
       "      <th>83</th>\n",
       "      <td>Hospital Playlist</td>\n",
       "      <td>8.7</td>\n",
       "      <td>10.90</td>\n",
       "      <td>2020</td>\n",
       "      <td>12.0</td>\n",
       "    </tr>\n",
       "  </tbody>\n",
       "</table>\n",
       "</div>"
      ],
      "text/plain": [
       "                  Drama Name  Rating(Out of 10)  Viewship Rate  Year  \\\n",
       "14  It’s okay to not be okay                8.8           5.42  2020   \n",
       "52              Youth of May                8.8           4.30  2021   \n",
       "34            Flower of Evil                8.8           3.92  2020   \n",
       "40      Crash Landing on you                8.7          12.15  2019   \n",
       "83         Hospital Playlist                8.7          10.90  2020   \n",
       "\n",
       "    No of Episodes  \n",
       "14            16.0  \n",
       "52            12.0  \n",
       "34            16.0  \n",
       "40            16.0  \n",
       "83            12.0  "
      ]
     },
     "execution_count": 1000,
     "metadata": {},
     "output_type": "execute_result"
    }
   ],
   "source": [
    "genre = input(\"Enter your Genre:\")\n",
    "Drama[Drama[genre] == 1].sort_values(by=['Rating(Out of 10)','Viewship Rate'],ascending=[False,False]).head(5).iloc[:,:5]"
   ]
  },
  {
   "cell_type": "markdown",
   "id": "1d395803",
   "metadata": {},
   "source": [
    "4.Number of Episodes"
   ]
  },
  {
   "cell_type": "code",
   "execution_count": 791,
   "id": "88456626",
   "metadata": {},
   "outputs": [
    {
     "name": "stdout",
     "output_type": "stream",
     "text": [
      "Enter your atmost number of episodes:16\n"
     ]
    },
    {
     "data": {
      "text/html": [
       "<div>\n",
       "<style scoped>\n",
       "    .dataframe tbody tr th:only-of-type {\n",
       "        vertical-align: middle;\n",
       "    }\n",
       "\n",
       "    .dataframe tbody tr th {\n",
       "        vertical-align: top;\n",
       "    }\n",
       "\n",
       "    .dataframe thead th {\n",
       "        text-align: right;\n",
       "    }\n",
       "</style>\n",
       "<table border=\"1\" class=\"dataframe\">\n",
       "  <thead>\n",
       "    <tr style=\"text-align: right;\">\n",
       "      <th></th>\n",
       "      <th>Drama Name</th>\n",
       "      <th>Rating(Out of 10)</th>\n",
       "      <th>Viewship Rate</th>\n",
       "      <th>Year</th>\n",
       "      <th>No of Episodes</th>\n",
       "    </tr>\n",
       "  </thead>\n",
       "  <tbody>\n",
       "    <tr>\n",
       "      <th>14</th>\n",
       "      <td>It’s okay to not be okay</td>\n",
       "      <td>8.8</td>\n",
       "      <td>5.42</td>\n",
       "      <td>2020</td>\n",
       "      <td>16.0</td>\n",
       "    </tr>\n",
       "    <tr>\n",
       "      <th>52</th>\n",
       "      <td>Youth of May</td>\n",
       "      <td>8.8</td>\n",
       "      <td>4.30</td>\n",
       "      <td>2021</td>\n",
       "      <td>12.0</td>\n",
       "    </tr>\n",
       "    <tr>\n",
       "      <th>34</th>\n",
       "      <td>Flower of Evil</td>\n",
       "      <td>8.8</td>\n",
       "      <td>3.92</td>\n",
       "      <td>2020</td>\n",
       "      <td>16.0</td>\n",
       "    </tr>\n",
       "    <tr>\n",
       "      <th>73</th>\n",
       "      <td>Doom at your service</td>\n",
       "      <td>8.8</td>\n",
       "      <td>3.00</td>\n",
       "      <td>2021</td>\n",
       "      <td>16.0</td>\n",
       "    </tr>\n",
       "    <tr>\n",
       "      <th>40</th>\n",
       "      <td>Crash Landing on you</td>\n",
       "      <td>8.7</td>\n",
       "      <td>12.15</td>\n",
       "      <td>2019</td>\n",
       "      <td>16.0</td>\n",
       "    </tr>\n",
       "  </tbody>\n",
       "</table>\n",
       "</div>"
      ],
      "text/plain": [
       "                  Drama Name  Rating(Out of 10)  Viewship Rate  Year  \\\n",
       "14  It’s okay to not be okay                8.8           5.42  2020   \n",
       "52              Youth of May                8.8           4.30  2021   \n",
       "34            Flower of Evil                8.8           3.92  2020   \n",
       "73      Doom at your service                8.8           3.00  2021   \n",
       "40      Crash Landing on you                8.7          12.15  2019   \n",
       "\n",
       "    No of Episodes  \n",
       "14            16.0  \n",
       "52            12.0  \n",
       "34            16.0  \n",
       "73            16.0  \n",
       "40            16.0  "
      ]
     },
     "execution_count": 791,
     "metadata": {},
     "output_type": "execute_result"
    }
   ],
   "source": [
    "epi = int(input(\"Enter your atmost number of episodes:\"))\n",
    "Drama[Drama['No of Episodes'] <= epi].sort_values(by=['Rating(Out of 10)','Viewship Rate'],ascending=[False,False]).head(5).iloc[:,:5]"
   ]
  },
  {
   "cell_type": "markdown",
   "id": "68f24db9",
   "metadata": {},
   "source": [
    "## Director"
   ]
  },
  {
   "cell_type": "code",
   "execution_count": 1001,
   "id": "54c22576",
   "metadata": {},
   "outputs": [],
   "source": [
    "Director = df.copy()\n",
    "Director = Director.drop(['Actors','Writer','No of Episodes'],axis=1)"
   ]
  },
  {
   "cell_type": "code",
   "execution_count": 1002,
   "id": "4e815094",
   "metadata": {},
   "outputs": [],
   "source": [
    "drama_list = []\n",
    "for c in Drama_List:\n",
    "    b = Director[Director['Drama Name'] == c]\n",
    "    drama = dict((g,0) for g in Genre_list)\n",
    "    for i in (b.index.to_list()):\n",
    "        for j in range(len(b['Genre'][i])):\n",
    "            for k in Genre_list:\n",
    "                if b['Genre'][i][j] == k:\n",
    "                    drama[k] +=1\n",
    "    \n",
    "    drama_list.append(drama)\n"
   ]
  },
  {
   "cell_type": "code",
   "execution_count": 1003,
   "id": "df8022b9",
   "metadata": {},
   "outputs": [],
   "source": [
    "d = dict()\n",
    "for i,j in zip(Drama_List,drama_list):\n",
    "    d[i] = j"
   ]
  },
  {
   "cell_type": "code",
   "execution_count": 1004,
   "id": "a9a82f73",
   "metadata": {},
   "outputs": [],
   "source": [
    "dramadata = pd.DataFrame.from_dict(d,orient='index')\n",
    "dramadata.index.name = 'Drama Name'\n",
    "Director = pd.merge(Director,dramadata,on='Drama Name')\n",
    "Director = Director.drop(['Genre'],axis=1)"
   ]
  },
  {
   "cell_type": "code",
   "execution_count": 1006,
   "id": "5db8c0a7",
   "metadata": {},
   "outputs": [
    {
     "name": "stdout",
     "output_type": "stream",
     "text": [
      "Enter the Director name:Park Shin-woo\n",
      "It’s okay to not be okay\n",
      "Don’t dare to dream\n",
      "About time\n",
      "\n",
      "Genres that Director has worked with:\n",
      "{'Comedy', 'Romance', 'Fantasy', 'Drama', 'Workplace'}\n"
     ]
    },
    {
     "data": {
      "image/png": "[encoded data removed]",
      "text/plain": [
       "<Figure size 864x648 with 2 Axes>"
      ]
     },
     "metadata": {
      "needs_background": "light"
     },
     "output_type": "display_data"
    }
   ],
   "source": [
    "plt.figure(figsize=(12,9))\n",
    "index_ = []\n",
    "user = input(\"Enter the Director name:\")\n",
    "for i in range(Director.shape[0]):\n",
    "    if user in Director['Director'][i]:\n",
    "        print(Director['Drama Name'][i])\n",
    "        index_.append(Director[Director['Drama Name'] == Director['Drama Name'][i]])\n",
    "result = pd.concat(index_)\n",
    "plt.subplot(2,1,1)\n",
    "sns.barplot(x='Drama Name',y='Rating(Out of 10)',data=result)\n",
    "plt.subplot(2,1,2)\n",
    "#pie, ax = plt.subplots(figsize=[10,9])\n",
    "labels = result['Network'].value_counts().index.values.tolist()\n",
    "plt.pie(x=result['Network'].value_counts().values.tolist(), labels=labels, pctdistance=0.5)\n",
    "#plt.title(user, fontsize=14);\n",
    "print(\"\\nGenres that Director has worked with:\")\n",
    "z = result.iloc[:,6:]\n",
    "col = set()\n",
    "for i in range(z.shape[0]):\n",
    "    for j in range(z.shape[1]):\n",
    "        if z.iloc[i,j] == 1:\n",
    "            col.add(z.columns[j])\n",
    "print(col)     "
   ]
  },
  {
   "cell_type": "markdown",
   "id": "481435b9",
   "metadata": {},
   "source": [
    "##### Top 5 Directors"
   ]
  },
  {
   "cell_type": "code",
   "execution_count": 957,
   "id": "37ae801c",
   "metadata": {},
   "outputs": [
    {
     "data": {
      "text/html": [
       "<div>\n",
       "<style scoped>\n",
       "    .dataframe tbody tr th:only-of-type {\n",
       "        vertical-align: middle;\n",
       "    }\n",
       "\n",
       "    .dataframe tbody tr th {\n",
       "        vertical-align: top;\n",
       "    }\n",
       "\n",
       "    .dataframe thead th {\n",
       "        text-align: right;\n",
       "    }\n",
       "</style>\n",
       "<table border=\"1\" class=\"dataframe\">\n",
       "  <thead>\n",
       "    <tr style=\"text-align: right;\">\n",
       "      <th></th>\n",
       "      <th>Rating(Out of 10)</th>\n",
       "      <th>Viewship Rate</th>\n",
       "    </tr>\n",
       "    <tr>\n",
       "      <th>Director Name</th>\n",
       "      <th></th>\n",
       "      <th></th>\n",
       "    </tr>\n",
       "  </thead>\n",
       "  <tbody>\n",
       "    <tr>\n",
       "      <th>Park Joon-hwa</th>\n",
       "      <td>31.6</td>\n",
       "      <td>18.25</td>\n",
       "    </tr>\n",
       "    <tr>\n",
       "      <th>Park Shin-woo</th>\n",
       "      <td>24.3</td>\n",
       "      <td>16.40</td>\n",
       "    </tr>\n",
       "    <tr>\n",
       "      <th>Jung Dae-yoon</th>\n",
       "      <td>23.8</td>\n",
       "      <td>28.67</td>\n",
       "    </tr>\n",
       "    <tr>\n",
       "      <th>Shin Won-ho</th>\n",
       "      <td>17.8</td>\n",
       "      <td>23.20</td>\n",
       "    </tr>\n",
       "    <tr>\n",
       "      <th>Lee Eung-bok</th>\n",
       "      <td>16.9</td>\n",
       "      <td>39.31</td>\n",
       "    </tr>\n",
       "  </tbody>\n",
       "</table>\n",
       "</div>"
      ],
      "text/plain": [
       "               Rating(Out of 10)  Viewship Rate\n",
       "Director Name                                  \n",
       "Park Joon-hwa               31.6          18.25\n",
       "Park Shin-woo               24.3          16.40\n",
       "Jung Dae-yoon               23.8          28.67\n",
       "Shin Won-ho                 17.8          23.20\n",
       "Lee Eung-bok                16.9          39.31"
      ]
     },
     "execution_count": 957,
     "metadata": {},
     "output_type": "execute_result"
    }
   ],
   "source": [
    "index_ = []\n",
    "dir_ = []\n",
    "for i in range(Director.shape[0]):\n",
    "    for j in Directors_list:\n",
    "        if j in Director['Director'][i]:\n",
    "            dir_.append(j)\n",
    "            index_.append(Director[Director['Drama Name'] == Director['Drama Name'][i]])\n",
    "result = pd.concat(index_)\n",
    "result['Director Name'] = dir_\n",
    "result = result.drop(Genre_list,axis=1)\n",
    "result = result.drop(['Director','Year','Network'],axis=1)\n",
    "result.groupby('Director Name')['Rating(Out of 10)','Viewship Rate'].sum().sort_values(by=['Rating(Out of 10)','Viewship Rate'],ascending=[False,False]).head(5)"
   ]
  },
  {
   "cell_type": "markdown",
   "id": "dcca381b",
   "metadata": {},
   "source": [
    "## Writer"
   ]
  },
  {
   "cell_type": "code",
   "execution_count": 1008,
   "id": "02c0ab87",
   "metadata": {},
   "outputs": [],
   "source": [
    "Writer = df.copy()\n",
    "Writer = Writer.drop(['Actors','Director','No of Episodes'],axis=1)"
   ]
  },
  {
   "cell_type": "code",
   "execution_count": 1010,
   "id": "214bf977",
   "metadata": {},
   "outputs": [],
   "source": [
    "drama_list = []\n",
    "for c in Drama_List:\n",
    "    b = Writer[Writer['Drama Name'] == c]\n",
    "    drama = dict((g,0) for g in Genre_list)\n",
    "    for i in (b.index.to_list()):\n",
    "        for j in range(len(b['Genre'][i])):\n",
    "            for k in Genre_list:\n",
    "                if b['Genre'][i][j] == k:\n",
    "                    drama[k] +=1\n",
    "    \n",
    "    drama_list.append(drama)\n"
   ]
  },
  {
   "cell_type": "code",
   "execution_count": 1011,
   "id": "ee5685af",
   "metadata": {},
   "outputs": [],
   "source": [
    "d = dict()\n",
    "for i,j in zip(Drama_List,drama_list):\n",
    "    d[i] = j"
   ]
  },
  {
   "cell_type": "code",
   "execution_count": 1012,
   "id": "68af1e3b",
   "metadata": {},
   "outputs": [],
   "source": [
    "dramadata = pd.DataFrame.from_dict(d,orient='index')\n",
    "dramadata.index.name = 'Drama Name'\n",
    "Writer = pd.merge(Writer,dramadata,on='Drama Name')\n",
    "Writer = Writer.drop(['Genre'],axis=1)"
   ]
  },
  {
   "cell_type": "code",
   "execution_count": 1017,
   "id": "f2a1a08c",
   "metadata": {},
   "outputs": [
    {
     "name": "stdout",
     "output_type": "stream",
     "text": [
      "Enter the Director name:Kim Eun-sook\n",
      "The Heirs\n",
      "The King: Eternal Monarch\n",
      "Guardian: the lonely and the great god\n",
      "Descendants of the sun\n",
      "\n",
      "Genres that Writer has wrote with:\n",
      "{'Romance', 'Action', 'Fantasy', 'Drama', 'Teen'}\n"
     ]
    },
    {
     "data": {
      "image/png": "[encoded data removed]",
      "text/plain": [
       "<Figure size 864x648 with 2 Axes>"
      ]
     },
     "metadata": {
      "needs_background": "light"
     },
     "output_type": "display_data"
    }
   ],
   "source": [
    "plt.figure(figsize=(12,9))\n",
    "index_ = []\n",
    "user = input(\"Enter the Director name:\")\n",
    "for i in range(Writer.shape[0]):\n",
    "    if user in Writer['Writer'][i]:\n",
    "        print(Writer['Drama Name'][i])\n",
    "        index_.append(Writer[Writer['Drama Name'] == Writer['Drama Name'][i]])\n",
    "result = pd.concat(index_)\n",
    "plt.subplot(2,1,1)\n",
    "sns.barplot(x='Drama Name',y='Rating(Out of 10)',data=result)\n",
    "plt.subplot(2,1,2)\n",
    "#pie, ax = plt.subplots(figsize=[10,9])\n",
    "labels = result['Network'].value_counts().index.values.tolist()\n",
    "plt.pie(x=result['Network'].value_counts().values.tolist(), labels=labels, pctdistance=0.5)\n",
    "#plt.title(user, fontsize=14);\n",
    "print(\"\\nGenres that Writer has wrote with:\")\n",
    "z = result.iloc[:,6:]\n",
    "col = set()\n",
    "for i in range(z.shape[0]):\n",
    "    for j in range(z.shape[1]):\n",
    "        if z.iloc[i,j] == 1:\n",
    "            col.add(z.columns[j])\n",
    "print(col)     "
   ]
  },
  {
   "cell_type": "markdown",
   "id": "1f23181f",
   "metadata": {},
   "source": [
    "##### TOP 5 Writers"
   ]
  },
  {
   "cell_type": "code",
   "execution_count": 1016,
   "id": "451045b8",
   "metadata": {},
   "outputs": [
    {
     "data": {
      "text/html": [
       "<div>\n",
       "<style scoped>\n",
       "    .dataframe tbody tr th:only-of-type {\n",
       "        vertical-align: middle;\n",
       "    }\n",
       "\n",
       "    .dataframe tbody tr th {\n",
       "        vertical-align: top;\n",
       "    }\n",
       "\n",
       "    .dataframe thead th {\n",
       "        text-align: right;\n",
       "    }\n",
       "</style>\n",
       "<table border=\"1\" class=\"dataframe\">\n",
       "  <thead>\n",
       "    <tr style=\"text-align: right;\">\n",
       "      <th></th>\n",
       "      <th>Rating(Out of 10)</th>\n",
       "      <th>Viewship Rate</th>\n",
       "    </tr>\n",
       "    <tr>\n",
       "      <th>Writer Name</th>\n",
       "      <th></th>\n",
       "      <th></th>\n",
       "    </tr>\n",
       "  </thead>\n",
       "  <tbody>\n",
       "    <tr>\n",
       "      <th>Kim Eun-sook</th>\n",
       "      <td>32.7</td>\n",
       "      <td>63.71</td>\n",
       "    </tr>\n",
       "    <tr>\n",
       "      <th>Park Ji-eun</th>\n",
       "      <td>25.0</td>\n",
       "      <td>57.85</td>\n",
       "    </tr>\n",
       "    <tr>\n",
       "      <th>Park Hye-ryun</th>\n",
       "      <td>24.6</td>\n",
       "      <td>23.32</td>\n",
       "    </tr>\n",
       "    <tr>\n",
       "      <th>Hong Jung-run</th>\n",
       "      <td>21.8</td>\n",
       "      <td>21.61</td>\n",
       "    </tr>\n",
       "    <tr>\n",
       "      <th>Hong Mi-ran</th>\n",
       "      <td>21.8</td>\n",
       "      <td>21.61</td>\n",
       "    </tr>\n",
       "  </tbody>\n",
       "</table>\n",
       "</div>"
      ],
      "text/plain": [
       "               Rating(Out of 10)  Viewship Rate\n",
       "Writer Name                                    \n",
       "Kim Eun-sook                32.7          63.71\n",
       "Park Ji-eun                 25.0          57.85\n",
       "Park Hye-ryun               24.6          23.32\n",
       "Hong Jung-run               21.8          21.61\n",
       "Hong Mi-ran                 21.8          21.61"
      ]
     },
     "execution_count": 1016,
     "metadata": {},
     "output_type": "execute_result"
    }
   ],
   "source": [
    "index_ = []\n",
    "wri_ = []\n",
    "for i in range(Writer.shape[0]):\n",
    "    for j in Writers_list:\n",
    "        if j in Writer['Writer'][i]:\n",
    "            wri_.append(j)\n",
    "            index_.append(Writer[Writer['Drama Name'] == Writer['Drama Name'][i]])\n",
    "result = pd.concat(index_)\n",
    "result['Writer Name'] = wri_\n",
    "result = result.drop(Genre_list,axis=1)\n",
    "result = result.drop(['Writer','Year','Network'],axis=1)\n",
    "result.groupby('Writer Name')['Rating(Out of 10)','Viewship Rate'].sum().sort_values(by=['Rating(Out of 10)','Viewship Rate'],ascending=[False,False]).head(5)"
   ]
  },
  {
   "cell_type": "code",
   "execution_count": null,
   "id": "89a5769e",
   "metadata": {},
   "outputs": [],
   "source": []
  }
 ],
 "metadata": {
  "kernelspec": {
   "display_name": "Python 3",
   "language": "python",
   "name": "python3"
  },
  "language_info": {
   "codemirror_mode": {
    "name": "ipython",
    "version": 3
   },
   "file_extension": ".py",
   "mimetype": "text/x-python",
   "name": "python",
   "nbconvert_exporter": "python",
   "pygments_lexer": "ipython3",
   "version": "3.9.5"
  }
 },
 "nbformat": 4,
 "nbformat_minor": 5
}
